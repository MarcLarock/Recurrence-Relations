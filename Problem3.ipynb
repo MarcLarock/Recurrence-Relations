{
 "cells": [
  {
   "cell_type": "markdown",
   "metadata": {},
   "source": [
    "### Problem 3"
   ]
  },
  {
   "cell_type": "markdown",
   "metadata": {
    "collapsed": true
   },
   "source": [
    "#### T(n)=T(√n)+1 if n>2, and T(n)=0 otherwise"
   ]
  },
  {
   "cell_type": "markdown",
   "metadata": {},
   "source": [
    "$$T(n) = T(\\sqrt{n}) + 1$$\n",
    "\n",
    "$$T(n^{\\frac{1}{2}}) = T(n^{\\frac{1}{2}}) + 1$$\n",
    "\n",
    "$$T(n^{\\frac{1}{4}}) = T(n^{\\frac{1}{4}}) + 1 + 1$$\n",
    "\n",
    "$$T(n) = T(n^{\\frac{1}{8}}) + 1 + 1 + 1$$\n",
    "\n",
    "$$T(n) = T(n^{\\frac{1}{2^{k}}}) + k$$"
   ]
  },
  {
   "cell_type": "markdown",
   "metadata": {},
   "source": [
    "$$2 \\geq n^{\\frac{1}{2^{k}}}$$\n",
    "\n",
    "$$log(2) \\geq log(n^{\\frac{1}{2^{k}}})$$\n",
    "\n",
    "$$log(2) \\geq {\\frac{1}{2^{k}}}log(n)$$\n",
    "\n",
    "$$\\frac{log(2)}{log(n)} \\geq {\\frac{1}{2^{k}}}$$\n",
    "\n",
    "$$\\$$"
   ]
  },
  {
   "cell_type": "markdown",
   "metadata": {},
   "source": [
    "$$\\frac{log(n)}{log(2)} \\leq 2^{k}$$\n",
    "\n",
    "$$log(n)\\leq 2^{k}$$\n",
    "\n",
    "$$log(log(n))\\leq klog2$$\n",
    "\n",
    "$$log(log(n))\\leq k$$\n",
    "\n",
    "$$\\$$"
   ]
  },
  {
   "cell_type": "markdown",
   "metadata": {},
   "source": [
    "Therefore, \n",
    "\n",
    "$$T(n) = \\theta(log(log(n)))$$"
   ]
  }
 ],
 "metadata": {
  "kernelspec": {
   "display_name": "Python 3",
   "language": "python",
   "name": "python3"
  },
  "language_info": {
   "codemirror_mode": {
    "name": "ipython",
    "version": 3
   },
   "file_extension": ".py",
   "mimetype": "text/x-python",
   "name": "python",
   "nbconvert_exporter": "python",
   "pygments_lexer": "ipython3",
   "version": "3.7.3"
  }
 },
 "nbformat": 4,
 "nbformat_minor": 2
}
